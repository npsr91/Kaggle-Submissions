{
 "cells": [
  {
   "cell_type": "code",
   "execution_count": 2,
   "metadata": {
    "ExecuteTime": {
     "end_time": "2019-03-21T19:14:03.110405Z",
     "start_time": "2019-03-21T19:14:03.107413Z"
    }
   },
   "outputs": [],
   "source": [
    "import warnings\n",
    "warnings.filterwarnings('ignore')"
   ]
  },
  {
   "cell_type": "code",
   "execution_count": 3,
   "metadata": {
    "ExecuteTime": {
     "end_time": "2019-03-21T19:14:24.802082Z",
     "start_time": "2019-03-21T19:14:07.498204Z"
    }
   },
   "outputs": [],
   "source": [
    "from starter import *\n",
    "import helper as hp\n",
    "import xgboost as xgb "
   ]
  },
  {
   "cell_type": "code",
   "execution_count": 4,
   "metadata": {
    "ExecuteTime": {
     "end_time": "2019-03-21T19:14:24.810060Z",
     "start_time": "2019-03-21T19:14:24.804077Z"
    }
   },
   "outputs": [],
   "source": [
    "os.chdir(r'C:\\Users\\Pranav\\Desktop\\MSBA\\Kaggle Competitions\\Career Con\\career-con-2019')"
   ]
  },
  {
   "cell_type": "code",
   "execution_count": 5,
   "metadata": {
    "ExecuteTime": {
     "end_time": "2019-03-21T19:14:24.864913Z",
     "start_time": "2019-03-21T19:14:24.812055Z"
    }
   },
   "outputs": [
    {
     "data": {
      "text/plain": [
       "['output_2019-03-20 10.13.html',\n",
       " 'sample_submission.csv',\n",
       " 'submission_2019-03-20 10.13.csv',\n",
       " 'X_test.csv',\n",
       " 'X_train.csv',\n",
       " 'y_train.csv']"
      ]
     },
     "execution_count": 5,
     "metadata": {},
     "output_type": "execute_result"
    }
   ],
   "source": [
    "os.listdir()"
   ]
  },
  {
   "cell_type": "code",
   "execution_count": 6,
   "metadata": {
    "ExecuteTime": {
     "end_time": "2019-03-21T19:14:30.674211Z",
     "start_time": "2019-03-21T19:14:30.669227Z"
    }
   },
   "outputs": [
    {
     "data": {
      "text/plain": [
       "'2019-03-21 14.14'"
      ]
     },
     "execution_count": 6,
     "metadata": {},
     "output_type": "execute_result"
    }
   ],
   "source": [
    "dt_now"
   ]
  },
  {
   "cell_type": "code",
   "execution_count": 8,
   "metadata": {
    "ExecuteTime": {
     "end_time": "2019-03-21T19:14:58.992286Z",
     "start_time": "2019-03-21T19:14:56.308870Z"
    }
   },
   "outputs": [],
   "source": [
    "dfs= {}\n",
    "for file in ['X_test.csv',\n",
    " 'X_train.csv',\n",
    " 'y_train.csv']:\n",
    "    dfs[file] = pd.read_csv(file)\n",
    "    "
   ]
  },
  {
   "cell_type": "code",
   "execution_count": 10,
   "metadata": {
    "ExecuteTime": {
     "end_time": "2019-03-21T19:15:05.255565Z",
     "start_time": "2019-03-21T19:15:05.249581Z"
    }
   },
   "outputs": [],
   "source": [
    "X_train = dfs['X_train.csv']\n",
    "X_test = dfs['X_test.csv']\n",
    "y_train = dfs['y_train.csv']\n"
   ]
  },
  {
   "cell_type": "code",
   "execution_count": 11,
   "metadata": {
    "ExecuteTime": {
     "end_time": "2019-03-21T19:15:07.147984Z",
     "start_time": "2019-03-21T19:15:07.039237Z"
    }
   },
   "outputs": [
    {
     "data": {
      "text/plain": [
       "row_id                   0\n",
       "series_id                0\n",
       "measurement_number       0\n",
       "orientation_X            0\n",
       "orientation_Y            0\n",
       "orientation_Z            0\n",
       "orientation_W            0\n",
       "angular_velocity_X       0\n",
       "angular_velocity_Y       0\n",
       "angular_velocity_Z       0\n",
       "linear_acceleration_X    0\n",
       "linear_acceleration_Y    0\n",
       "linear_acceleration_Z    0\n",
       "dtype: int64"
      ]
     },
     "execution_count": 11,
     "metadata": {},
     "output_type": "execute_result"
    }
   ],
   "source": [
    "X_train.isnull().sum()"
   ]
  },
  {
   "cell_type": "code",
   "execution_count": 12,
   "metadata": {
    "ExecuteTime": {
     "end_time": "2019-03-21T19:15:08.808469Z",
     "start_time": "2019-03-21T19:15:08.692742Z"
    }
   },
   "outputs": [
    {
     "data": {
      "text/plain": [
       "row_id                   0\n",
       "series_id                0\n",
       "measurement_number       0\n",
       "orientation_X            0\n",
       "orientation_Y            0\n",
       "orientation_Z            0\n",
       "orientation_W            0\n",
       "angular_velocity_X       0\n",
       "angular_velocity_Y       0\n",
       "angular_velocity_Z       0\n",
       "linear_acceleration_X    0\n",
       "linear_acceleration_Y    0\n",
       "linear_acceleration_Z    0\n",
       "dtype: int64"
      ]
     },
     "execution_count": 12,
     "metadata": {},
     "output_type": "execute_result"
    }
   ],
   "source": [
    "X_test.isnull().sum()"
   ]
  },
  {
   "cell_type": "code",
   "execution_count": 13,
   "metadata": {
    "ExecuteTime": {
     "end_time": "2019-03-21T19:15:09.074914Z",
     "start_time": "2019-03-21T19:15:09.068929Z"
    }
   },
   "outputs": [
    {
     "data": {
      "text/plain": [
       "series_id    0\n",
       "group_id     0\n",
       "surface      0\n",
       "dtype: int64"
      ]
     },
     "execution_count": 13,
     "metadata": {},
     "output_type": "execute_result"
    }
   ],
   "source": [
    "y_train.isnull().sum()"
   ]
  },
  {
   "cell_type": "code",
   "execution_count": 14,
   "metadata": {
    "ExecuteTime": {
     "end_time": "2019-03-21T19:15:09.710964Z",
     "start_time": "2019-03-21T19:15:09.689021Z"
    }
   },
   "outputs": [
    {
     "data": {
      "text/plain": [
       "((3810, 3), series_id    [[0, 1, 2, 3, 4, 5, 6, 7, 8, 9, 10, 11, 12, 13...\n",
       " group_id     [[13, 31, 20, 22, 1, 34, 33, 11, 26, 25, 12, 7...\n",
       " surface      [[fine_concrete, concrete, soft_tiles, tiled, ...\n",
       " dtype: object)"
      ]
     },
     "execution_count": 14,
     "metadata": {},
     "output_type": "execute_result"
    }
   ],
   "source": [
    "hp.rstr(y_train)"
   ]
  },
  {
   "cell_type": "code",
   "execution_count": 15,
   "metadata": {
    "ExecuteTime": {
     "end_time": "2019-03-21T19:15:13.865253Z",
     "start_time": "2019-03-21T19:15:10.458906Z"
    }
   },
   "outputs": [
    {
     "data": {
      "text/plain": [
       "((487680, 13),\n",
       " row_id                   [[0_0, 0_1, 0_2, 0_3, 0_4, 0_5, 0_6, 0_7, 0_8,...\n",
       " series_id                [[0, 1, 2, 3, 4, 5, 6, 7, 8, 9, 10, 11, 12, 13...\n",
       " measurement_number       [[0, 1, 2, 3, 4, 5, 6, 7, 8, 9, 10, 11, 12, 13...\n",
       " orientation_X            [[-0.75853, -0.75852, -0.75851, -0.75848, -0.7...\n",
       " orientation_Y            [[-0.63435, -0.63434, -0.63436, -0.63439, -0.6...\n",
       " orientation_Z            [[-0.10488, -0.1049, -0.10492, -0.10495, -0.10...\n",
       " orientation_W            [[-0.10597000000000001, -0.106, -0.10595999999...\n",
       " angular_velocity_X       [[0.10765, 0.067851, 0.0072747, -0.013053, 0.0...\n",
       " angular_velocity_Y       [[0.017561, 0.029939, 0.028933999999999998, 0....\n",
       " angular_velocity_Z       [[0.00076741, 0.0033854999999999996, -0.005978...\n",
       " linear_acceleration_X    [[-0.74857, 0.33995, -0.26429, 0.4268399999999...\n",
       " linear_acceleration_Y    [[2.103, 1.5064, 1.5922, 1.0993, 1.4689, 0.992...\n",
       " linear_acceleration_Z    [[-9.7532, -9.4128, -8.7267, -10.096, -10.4409...\n",
       " dtype: object)"
      ]
     },
     "execution_count": 15,
     "metadata": {},
     "output_type": "execute_result"
    }
   ],
   "source": [
    "hp.rstr(X_train)"
   ]
  },
  {
   "cell_type": "code",
   "execution_count": 16,
   "metadata": {
    "ExecuteTime": {
     "end_time": "2019-03-21T19:15:17.586391Z",
     "start_time": "2019-03-21T19:15:13.867216Z"
    }
   },
   "outputs": [
    {
     "data": {
      "text/plain": [
       "((488448, 13),\n",
       " row_id                   [[0_0, 0_1, 0_2, 0_3, 0_4, 0_5, 0_6, 0_7, 0_8,...\n",
       " series_id                [[0, 1, 2, 3, 4, 5, 6, 7, 8, 9, 10, 11, 12, 13...\n",
       " measurement_number       [[0, 1, 2, 3, 4, 5, 6, 7, 8, 9, 10, 11, 12, 13...\n",
       " orientation_X            [[-0.025773, -0.025682999999999997, -0.025617,...\n",
       " orientation_Y            [[-0.98864, -0.98862, -0.98861, -0.98866, -0.9...\n",
       " orientation_Z            [[-0.14801, -0.14816, -0.14826, -0.14817, -0.1...\n",
       " orientation_W            [[0.00335, 0.003439, 0.0035713999999999997, 0....\n",
       " angular_velocity_X       [[-0.0065236999999999995, -0.11395999999999999...\n",
       " angular_velocity_Y       [[-0.0010714000000000001, 0.083987, 0.11485999...\n",
       " angular_velocity_Z       [[-0.027389999999999998, -0.06059, -0.03717699...\n",
       " linear_acceleration_X    [[0.10042999999999999, -0.7088899999999999, 1....\n",
       " linear_acceleration_Y    [[4.2061, 3.9905, 2.2828, 1.8582, 2.7881, 3.42...\n",
       " linear_acceleration_Z    [[-5.5439, -8.0273, -11.299000000000001, -12.2...\n",
       " dtype: object)"
      ]
     },
     "execution_count": 16,
     "metadata": {},
     "output_type": "execute_result"
    }
   ],
   "source": [
    "hp.rstr(X_test)"
   ]
  },
  {
   "cell_type": "code",
   "execution_count": 17,
   "metadata": {
    "ExecuteTime": {
     "end_time": "2019-03-21T19:15:21.462792Z",
     "start_time": "2019-03-21T19:15:21.459800Z"
    }
   },
   "outputs": [],
   "source": [
    "# hp.do_data_profiling(X_train, 'output_'+str(dt_now)+'.html')"
   ]
  },
  {
   "cell_type": "code",
   "execution_count": 18,
   "metadata": {
    "ExecuteTime": {
     "end_time": "2019-03-21T19:15:22.946125Z",
     "start_time": "2019-03-21T19:15:22.727296Z"
    }
   },
   "outputs": [
    {
     "data": {
      "text/plain": [
       "concrete                  0.204462\n",
       "soft_pvc                  0.192126\n",
       "wood                      0.159318\n",
       "tiled                     0.134908\n",
       "fine_concrete             0.095276\n",
       "hard_tiles_large_space    0.080840\n",
       "soft_tiles                0.077953\n",
       "carpet                    0.049606\n",
       "hard_tiles                0.005512\n",
       "Name: surface, dtype: float64"
      ]
     },
     "execution_count": 18,
     "metadata": {},
     "output_type": "execute_result"
    }
   ],
   "source": [
    "y_train.surface.value_counts(normalize = True)"
   ]
  },
  {
   "cell_type": "code",
   "execution_count": 19,
   "metadata": {
    "ExecuteTime": {
     "end_time": "2019-03-21T19:15:24.461448Z",
     "start_time": "2019-03-21T19:15:24.425846Z"
    }
   },
   "outputs": [
    {
     "data": {
      "text/html": [
       "<div>\n",
       "<style scoped>\n",
       "    .dataframe tbody tr th:only-of-type {\n",
       "        vertical-align: middle;\n",
       "    }\n",
       "\n",
       "    .dataframe tbody tr th {\n",
       "        vertical-align: top;\n",
       "    }\n",
       "\n",
       "    .dataframe thead th {\n",
       "        text-align: right;\n",
       "    }\n",
       "</style>\n",
       "<table border=\"1\" class=\"dataframe\">\n",
       "  <thead>\n",
       "    <tr style=\"text-align: right;\">\n",
       "      <th></th>\n",
       "      <th>row_id</th>\n",
       "      <th>series_id</th>\n",
       "      <th>measurement_number</th>\n",
       "      <th>orientation_X</th>\n",
       "      <th>orientation_Y</th>\n",
       "      <th>orientation_Z</th>\n",
       "      <th>orientation_W</th>\n",
       "      <th>angular_velocity_X</th>\n",
       "      <th>angular_velocity_Y</th>\n",
       "      <th>angular_velocity_Z</th>\n",
       "      <th>linear_acceleration_X</th>\n",
       "      <th>linear_acceleration_Y</th>\n",
       "      <th>linear_acceleration_Z</th>\n",
       "    </tr>\n",
       "  </thead>\n",
       "  <tbody>\n",
       "    <tr>\n",
       "      <th>0</th>\n",
       "      <td>0_0</td>\n",
       "      <td>0</td>\n",
       "      <td>0</td>\n",
       "      <td>-0.75853</td>\n",
       "      <td>-0.63435</td>\n",
       "      <td>-0.10488</td>\n",
       "      <td>-0.10597</td>\n",
       "      <td>0.107650</td>\n",
       "      <td>0.017561</td>\n",
       "      <td>0.000767</td>\n",
       "      <td>-0.74857</td>\n",
       "      <td>2.1030</td>\n",
       "      <td>-9.7532</td>\n",
       "    </tr>\n",
       "    <tr>\n",
       "      <th>1</th>\n",
       "      <td>0_1</td>\n",
       "      <td>0</td>\n",
       "      <td>1</td>\n",
       "      <td>-0.75853</td>\n",
       "      <td>-0.63434</td>\n",
       "      <td>-0.10490</td>\n",
       "      <td>-0.10600</td>\n",
       "      <td>0.067851</td>\n",
       "      <td>0.029939</td>\n",
       "      <td>0.003385</td>\n",
       "      <td>0.33995</td>\n",
       "      <td>1.5064</td>\n",
       "      <td>-9.4128</td>\n",
       "    </tr>\n",
       "    <tr>\n",
       "      <th>2</th>\n",
       "      <td>0_2</td>\n",
       "      <td>0</td>\n",
       "      <td>2</td>\n",
       "      <td>-0.75853</td>\n",
       "      <td>-0.63435</td>\n",
       "      <td>-0.10492</td>\n",
       "      <td>-0.10597</td>\n",
       "      <td>0.007275</td>\n",
       "      <td>0.028934</td>\n",
       "      <td>-0.005978</td>\n",
       "      <td>-0.26429</td>\n",
       "      <td>1.5922</td>\n",
       "      <td>-8.7267</td>\n",
       "    </tr>\n",
       "    <tr>\n",
       "      <th>3</th>\n",
       "      <td>0_3</td>\n",
       "      <td>0</td>\n",
       "      <td>3</td>\n",
       "      <td>-0.75852</td>\n",
       "      <td>-0.63436</td>\n",
       "      <td>-0.10495</td>\n",
       "      <td>-0.10597</td>\n",
       "      <td>-0.013053</td>\n",
       "      <td>0.019448</td>\n",
       "      <td>-0.008974</td>\n",
       "      <td>0.42684</td>\n",
       "      <td>1.0993</td>\n",
       "      <td>-10.0960</td>\n",
       "    </tr>\n",
       "    <tr>\n",
       "      <th>4</th>\n",
       "      <td>0_4</td>\n",
       "      <td>0</td>\n",
       "      <td>4</td>\n",
       "      <td>-0.75852</td>\n",
       "      <td>-0.63435</td>\n",
       "      <td>-0.10495</td>\n",
       "      <td>-0.10596</td>\n",
       "      <td>0.005135</td>\n",
       "      <td>0.007652</td>\n",
       "      <td>0.005245</td>\n",
       "      <td>-0.50969</td>\n",
       "      <td>1.4689</td>\n",
       "      <td>-10.4410</td>\n",
       "    </tr>\n",
       "  </tbody>\n",
       "</table>\n",
       "</div>"
      ],
      "text/plain": [
       "  row_id  series_id  measurement_number  orientation_X  orientation_Y  \\\n",
       "0    0_0          0                   0       -0.75853       -0.63435   \n",
       "1    0_1          0                   1       -0.75853       -0.63434   \n",
       "2    0_2          0                   2       -0.75853       -0.63435   \n",
       "3    0_3          0                   3       -0.75852       -0.63436   \n",
       "4    0_4          0                   4       -0.75852       -0.63435   \n",
       "\n",
       "   orientation_Z  orientation_W  angular_velocity_X  angular_velocity_Y  \\\n",
       "0       -0.10488       -0.10597            0.107650            0.017561   \n",
       "1       -0.10490       -0.10600            0.067851            0.029939   \n",
       "2       -0.10492       -0.10597            0.007275            0.028934   \n",
       "3       -0.10495       -0.10597           -0.013053            0.019448   \n",
       "4       -0.10495       -0.10596            0.005135            0.007652   \n",
       "\n",
       "   angular_velocity_Z  linear_acceleration_X  linear_acceleration_Y  \\\n",
       "0            0.000767               -0.74857                 2.1030   \n",
       "1            0.003385                0.33995                 1.5064   \n",
       "2           -0.005978               -0.26429                 1.5922   \n",
       "3           -0.008974                0.42684                 1.0993   \n",
       "4            0.005245               -0.50969                 1.4689   \n",
       "\n",
       "   linear_acceleration_Z  \n",
       "0                -9.7532  \n",
       "1                -9.4128  \n",
       "2                -8.7267  \n",
       "3               -10.0960  \n",
       "4               -10.4410  "
      ]
     },
     "execution_count": 19,
     "metadata": {},
     "output_type": "execute_result"
    }
   ],
   "source": [
    "X_train.head()"
   ]
  },
  {
   "cell_type": "markdown",
   "metadata": {},
   "source": [
    "# Data Prep"
   ]
  },
  {
   "cell_type": "code",
   "execution_count": 20,
   "metadata": {
    "ExecuteTime": {
     "end_time": "2019-03-21T19:15:27.708857Z",
     "start_time": "2019-03-21T19:15:27.692912Z"
    }
   },
   "outputs": [
    {
     "name": "stdout",
     "output_type": "stream",
     "text": [
      "Label encoding column - surface\n"
     ]
    }
   ],
   "source": [
    "y_train_le, res = hp.label_encoder(y_train,['surface'])"
   ]
  },
  {
   "cell_type": "code",
   "execution_count": 21,
   "metadata": {
    "ExecuteTime": {
     "end_time": "2019-03-21T19:15:32.240467Z",
     "start_time": "2019-03-21T19:15:32.235440Z"
    }
   },
   "outputs": [
    {
     "data": {
      "text/plain": [
       "Index(['series_id', 'group_id', 'surface'], dtype='object')"
      ]
     },
     "execution_count": 21,
     "metadata": {},
     "output_type": "execute_result"
    }
   ],
   "source": [
    "y_train_le.columns"
   ]
  },
  {
   "cell_type": "code",
   "execution_count": 22,
   "metadata": {
    "ExecuteTime": {
     "end_time": "2019-03-21T19:15:32.736128Z",
     "start_time": "2019-03-21T19:15:32.729109Z"
    }
   },
   "outputs": [],
   "source": [
    "y_train_le.set_index(['series_id', 'group_id'], inplace = True)"
   ]
  },
  {
   "cell_type": "code",
   "execution_count": 23,
   "metadata": {
    "ExecuteTime": {
     "end_time": "2019-03-21T19:15:34.424329Z",
     "start_time": "2019-03-21T19:15:34.418343Z"
    }
   },
   "outputs": [
    {
     "data": {
      "text/plain": [
       "Index(['row_id', 'series_id', 'measurement_number', 'orientation_X',\n",
       "       'orientation_Y', 'orientation_Z', 'orientation_W', 'angular_velocity_X',\n",
       "       'angular_velocity_Y', 'angular_velocity_Z', 'linear_acceleration_X',\n",
       "       'linear_acceleration_Y', 'linear_acceleration_Z'],\n",
       "      dtype='object')"
      ]
     },
     "execution_count": 23,
     "metadata": {},
     "output_type": "execute_result"
    }
   ],
   "source": [
    "X_train.columns"
   ]
  },
  {
   "cell_type": "code",
   "execution_count": 24,
   "metadata": {
    "ExecuteTime": {
     "end_time": "2019-03-21T19:15:34.992038Z",
     "start_time": "2019-03-21T19:15:34.947888Z"
    }
   },
   "outputs": [],
   "source": [
    "X_train_agg = X_train.groupby(['series_id']).agg({'orientation_X':'mean',\n",
    "       'orientation_Y':'mean', 'orientation_Z':'mean', 'orientation_W':'mean', 'angular_velocity_X':'mean',\n",
    "       'angular_velocity_Y':'mean', 'angular_velocity_Z':'mean', 'linear_acceleration_X':'mean',\n",
    "       'linear_acceleration_Y':'mean', 'linear_acceleration_Z':'mean'})"
   ]
  },
  {
   "cell_type": "code",
   "execution_count": 25,
   "metadata": {
    "ExecuteTime": {
     "end_time": "2019-03-21T19:15:36.738355Z",
     "start_time": "2019-03-21T19:15:36.688446Z"
    }
   },
   "outputs": [],
   "source": [
    "X_test_agg = X_test.groupby(['series_id']).agg({'orientation_X':'mean',\n",
    "       'orientation_Y':'mean', 'orientation_Z':'mean', 'orientation_W':'mean', 'angular_velocity_X':'mean',\n",
    "       'angular_velocity_Y':'mean', 'angular_velocity_Z':'mean', 'linear_acceleration_X':'mean',\n",
    "       'linear_acceleration_Y':'mean', 'linear_acceleration_Z':'mean'})"
   ]
  },
  {
   "cell_type": "markdown",
   "metadata": {},
   "source": [
    "# Classification"
   ]
  },
  {
   "cell_type": "markdown",
   "metadata": {},
   "source": [
    "## Linear SVC"
   ]
  },
  {
   "cell_type": "code",
   "execution_count": 26,
   "metadata": {
    "ExecuteTime": {
     "end_time": "2019-03-21T19:15:45.283026Z",
     "start_time": "2019-03-21T19:15:43.225260Z"
    }
   },
   "outputs": [
    {
     "name": "stderr",
     "output_type": "stream",
     "text": [
      "C:\\Users\\Pranav\\AppData\\Local\\Continuum\\anaconda3\\lib\\site-packages\\sklearn\\utils\\validation.py:578: DataConversionWarning: A column-vector y was passed when a 1d array was expected. Please change the shape of y to (n_samples, ), for example using ravel().\n",
      "  y = column_or_1d(y, warn=True)\n"
     ]
    }
   ],
   "source": [
    "from sklearn.multiclass import OneVsOneClassifier\n",
    "from sklearn.svm import LinearSVC\n",
    "y_test =  OneVsOneClassifier(LinearSVC(random_state=0)).fit(X_train_agg, y_train_le).predict(X_test_agg) \n"
   ]
  },
  {
   "cell_type": "markdown",
   "metadata": {},
   "source": [
    "## RF Classifier"
   ]
  },
  {
   "cell_type": "code",
   "execution_count": 27,
   "metadata": {
    "ExecuteTime": {
     "end_time": "2019-03-21T19:15:53.460379Z",
     "start_time": "2019-03-21T19:15:52.380716Z"
    }
   },
   "outputs": [
    {
     "name": "stderr",
     "output_type": "stream",
     "text": [
      "C:\\Users\\Pranav\\AppData\\Local\\Continuum\\anaconda3\\lib\\site-packages\\sklearn\\utils\\validation.py:578: DataConversionWarning: A column-vector y was passed when a 1d array was expected. Please change the shape of y to (n_samples, ), for example using ravel().\n",
      "  y = column_or_1d(y, warn=True)\n"
     ]
    }
   ],
   "source": [
    "from sklearn.ensemble import RandomForestClassifier\n",
    "y_test =  OneVsOneClassifier(RandomForestClassifier(random_state=0)).fit(X_train_agg, y_train_le).predict(X_test_agg) \n"
   ]
  },
  {
   "cell_type": "markdown",
   "metadata": {},
   "source": [
    "## XGB Classifier"
   ]
  },
  {
   "cell_type": "code",
   "execution_count": 29,
   "metadata": {
    "ExecuteTime": {
     "end_time": "2019-03-21T19:16:27.058194Z",
     "start_time": "2019-03-21T19:16:27.055197Z"
    }
   },
   "outputs": [],
   "source": [
    "alg = xgb.XGBClassifier(learning_rate=0.1, n_estimators=140, max_depth=5,\n",
    "                        min_child_weight=3, gamma=0.2, subsample=0.6, colsample_bytree=1.0,\n",
    "                        objective='multi:softmax', nthread=4, scale_pos_weight=1, seed=27)"
   ]
  },
  {
   "cell_type": "code",
   "execution_count": 31,
   "metadata": {
    "ExecuteTime": {
     "end_time": "2019-03-21T19:16:50.105330Z",
     "start_time": "2019-03-21T19:16:46.551404Z"
    }
   },
   "outputs": [
    {
     "name": "stderr",
     "output_type": "stream",
     "text": [
      "C:\\Users\\Pranav\\AppData\\Local\\Continuum\\anaconda3\\lib\\site-packages\\sklearn\\preprocessing\\label.py:95: DataConversionWarning: A column-vector y was passed when a 1d array was expected. Please change the shape of y to (n_samples, ), for example using ravel().\n",
      "  y = column_or_1d(y, warn=True)\n",
      "C:\\Users\\Pranav\\AppData\\Local\\Continuum\\anaconda3\\lib\\site-packages\\sklearn\\preprocessing\\label.py:128: DataConversionWarning: A column-vector y was passed when a 1d array was expected. Please change the shape of y to (n_samples, ), for example using ravel().\n",
      "  y = column_or_1d(y, warn=True)\n",
      "C:\\Users\\Pranav\\AppData\\Local\\Continuum\\anaconda3\\lib\\site-packages\\sklearn\\preprocessing\\label.py:151: DeprecationWarning: The truth value of an empty array is ambiguous. Returning False, but in future this will result in an error. Use `array.size > 0` to check that an array is not empty.\n",
      "  if diff:\n"
     ]
    }
   ],
   "source": [
    "xgb_model = alg.fit(X_train_agg, y_train_le)\n",
    "y_test = xgb_model.predict(X_test_agg)"
   ]
  },
  {
   "cell_type": "markdown",
   "metadata": {},
   "source": [
    "## Predictions"
   ]
  },
  {
   "cell_type": "code",
   "execution_count": 32,
   "metadata": {
    "ExecuteTime": {
     "end_time": "2019-03-21T19:16:52.631425Z",
     "start_time": "2019-03-21T19:16:52.627397Z"
    }
   },
   "outputs": [
    {
     "data": {
      "text/plain": [
       "array([4, 1, 7, ..., 8, 0, 8], dtype=int64)"
      ]
     },
     "execution_count": 32,
     "metadata": {},
     "output_type": "execute_result"
    }
   ],
   "source": [
    "y_test"
   ]
  },
  {
   "cell_type": "code",
   "execution_count": 33,
   "metadata": {
    "ExecuteTime": {
     "end_time": "2019-03-21T19:16:53.576825Z",
     "start_time": "2019-03-21T19:16:53.571840Z"
    }
   },
   "outputs": [
    {
     "name": "stderr",
     "output_type": "stream",
     "text": [
      "C:\\Users\\Pranav\\AppData\\Local\\Continuum\\anaconda3\\lib\\site-packages\\sklearn\\preprocessing\\label.py:151: DeprecationWarning: The truth value of an empty array is ambiguous. Returning False, but in future this will result in an error. Use `array.size > 0` to check that an array is not empty.\n",
      "  if diff:\n"
     ]
    }
   ],
   "source": [
    "y_test_df = pd.DataFrame(res['surface'].inverse_transform(y_test), index = X_test_agg.index)"
   ]
  },
  {
   "cell_type": "code",
   "execution_count": 34,
   "metadata": {
    "ExecuteTime": {
     "end_time": "2019-03-21T19:16:54.168691Z",
     "start_time": "2019-03-21T19:16:54.164702Z"
    }
   },
   "outputs": [],
   "source": [
    "y_test_df.columns = ['surface']"
   ]
  },
  {
   "cell_type": "code",
   "execution_count": 35,
   "metadata": {
    "ExecuteTime": {
     "end_time": "2019-03-21T19:16:58.830399Z",
     "start_time": "2019-03-21T19:16:55.859316Z"
    }
   },
   "outputs": [],
   "source": [
    "y_test_df.reset_index().to_csv('submission_'+dt_now+'.csv', index = False)"
   ]
  },
  {
   "cell_type": "code",
   "execution_count": null,
   "metadata": {
    "ExecuteTime": {
     "start_time": "2019-03-21T21:43:40.504Z"
    }
   },
   "outputs": [],
   "source": [
    "!pip uninstall keras"
   ]
  },
  {
   "cell_type": "code",
   "execution_count": 1,
   "metadata": {
    "ExecuteTime": {
     "end_time": "2019-03-21T21:43:08.225107Z",
     "start_time": "2019-03-21T21:43:04.649704Z"
    }
   },
   "outputs": [
    {
     "name": "stdout",
     "output_type": "stream",
     "text": [
      "Keras                              2.2.4       \n",
      "Keras-Applications                 1.0.6       \n",
      "Keras-Preprocessing                1.0.5       \n"
     ]
    },
    {
     "name": "stderr",
     "output_type": "stream",
     "text": [
      "You are using pip version 10.0.1, however version 19.0.3 is available.\n",
      "You should consider upgrading via the 'python -m pip install --upgrade pip' command.\n"
     ]
    }
   ],
   "source": [
    "!pip list | grep -i keras"
   ]
  },
  {
   "cell_type": "code",
   "execution_count": null,
   "metadata": {},
   "outputs": [],
   "source": []
  }
 ],
 "metadata": {
  "hide_input": false,
  "kernelspec": {
   "display_name": "Python 3",
   "language": "python",
   "name": "python3"
  },
  "language_info": {
   "codemirror_mode": {
    "name": "ipython",
    "version": 3
   },
   "file_extension": ".py",
   "mimetype": "text/x-python",
   "name": "python",
   "nbconvert_exporter": "python",
   "pygments_lexer": "ipython3",
   "version": "3.6.5"
  },
  "toc": {
   "base_numbering": 1,
   "nav_menu": {},
   "number_sections": true,
   "sideBar": true,
   "skip_h1_title": false,
   "title_cell": "Table of Contents",
   "title_sidebar": "Contents",
   "toc_cell": false,
   "toc_position": {},
   "toc_section_display": true,
   "toc_window_display": false
  },
  "varInspector": {
   "cols": {
    "lenName": 16,
    "lenType": 16,
    "lenVar": 40
   },
   "kernels_config": {
    "python": {
     "delete_cmd_postfix": "",
     "delete_cmd_prefix": "del ",
     "library": "var_list.py",
     "varRefreshCmd": "print(var_dic_list())"
    },
    "r": {
     "delete_cmd_postfix": ") ",
     "delete_cmd_prefix": "rm(",
     "library": "var_list.r",
     "varRefreshCmd": "cat(var_dic_list()) "
    }
   },
   "types_to_exclude": [
    "module",
    "function",
    "builtin_function_or_method",
    "instance",
    "_Feature"
   ],
   "window_display": false
  }
 },
 "nbformat": 4,
 "nbformat_minor": 2
}
